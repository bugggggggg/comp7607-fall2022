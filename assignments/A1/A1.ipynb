{
  "cells": [
    {
      "cell_type": "markdown",
      "metadata": {
        "id": "wI4A-T0z5AU6"
      },
      "source": [
        "# Assignment 1\n",
        "You should submit the **UniversityNumber.ipynb** file and your final prediction file **UniversityNumber.test.out** to moodle. Make sure your code does not use your local files and that the results are reproducible. Before submitting, please **run your notebook and keep all running logs** so that we can check."
      ]
    },
    {
      "cell_type": "markdown",
      "metadata": {
        "id": "gEomoMzH5Nf6"
      },
      "source": [
        "## 1 $n$-gram Language Model"
      ]
    },
    {
      "cell_type": "code",
      "execution_count": null,
      "metadata": {
        "id": "YsSAtTqt7Q8a"
      },
      "outputs": [],
      "source": [
        "!wget -O train.txt https://raw.githubusercontent.com/ranpox/comp7607-fall2022/main/assignments/A1/data/lm/train.txt\n",
        "!wget -O dev.txt https://raw.githubusercontent.com/ranpox/comp7607-fall2022/main/assignments/A1/data/lm/dev.txt\n",
        "!wget -O test.txt https://raw.githubusercontent.com/ranpox/comp7607-fall2022/main/assignments/A1/data/lm/test.txt"
      ]
    },
    {
      "cell_type": "markdown",
      "metadata": {
        "id": "7ElrINWW7oF7"
      },
      "source": [
        "### 1.1 Building vocabulary"
      ]
    },
    {
      "cell_type": "markdown",
      "metadata": {
        "id": "eawcuVV19kZm"
      },
      "source": [
        "#### Code"
      ]
    },
    {
      "cell_type": "code",
      "execution_count": 13,
      "metadata": {
        "id": "q-rNT_QL8Dvt"
      },
      "outputs": [
        {
          "name": "stdout",
          "output_type": "stream",
          "text": [
            "have 46310 tokens.\n",
            "after add unknown token, have 20663 tokens.\n"
          ]
        }
      ],
      "source": [
        "\n",
        "MINIMAL_FREQUENCY = 3\n",
        "START_TOKEN = '<s>'\n",
        "END_TOKEN = '</s>'\n",
        "UNKNOWN_TOKEN = '<UNK>'\n",
        "\n",
        "FILE_PATH = 'data/lm'\n",
        "TEST_FILENAME = f'{FILE_PATH}/test.txt'\n",
        "DEV_FILENAME = f'{FILE_PATH}/dev.txt'\n",
        "TRAIN_FILENAME = f'{FILE_PATH}/train.txt'\n",
        "\n",
        "word_frequency = {}\n",
        "\n",
        "def load_file(file_name):\n",
        "    texts = []\n",
        "    with open(file_name, encoding='utf-8') as f:\n",
        "        for line in f.readlines():\n",
        "            text = line.strip().lower().split(' ')\n",
        "            text.insert(0, START_TOKEN)\n",
        "            text.append(END_TOKEN)\n",
        "            texts.append(text)\n",
        "    return texts\n",
        "\n",
        "def cal_frequency(texts):\n",
        "    global word_frequency\n",
        "    for text in texts:\n",
        "        for word in text:\n",
        "            if word not in word_frequency:\n",
        "                word_frequency[word] = 1\n",
        "            else:\n",
        "                word_frequency[word] += 1\n",
        "\n",
        "def add_unk():\n",
        "    global word_frequency\n",
        "    tmp = {}\n",
        "    tmp[UNKNOWN_TOKEN] = 0\n",
        "    for key in word_frequency:\n",
        "        value = word_frequency[key]\n",
        "        if value < MINIMAL_FREQUENCY:\n",
        "            tmp[UNKNOWN_TOKEN] += value\n",
        "        else:\n",
        "            tmp[key] = value\n",
        "    word_frequency = tmp\n",
        "\n",
        "train_texts = load_file(TRAIN_FILENAME)\n",
        "dev_texts = load_file(DEV_FILENAME)\n",
        "test_texts = load_file(TEST_FILENAME)\n",
        "\n",
        "cal_frequency(train_texts)\n",
        "print(f'have {len(word_frequency)} tokens.')\n",
        "\n",
        "add_unk()\n",
        "print(f'after add unknown token, have {len(word_frequency)} tokens.')\n"
      ]
    },
    {
      "cell_type": "markdown",
      "metadata": {
        "id": "e7oBATsX8uHb"
      },
      "source": [
        "#### Discussion"
      ]
    },
    {
      "cell_type": "markdown",
      "metadata": {
        "id": "PU6VpAkS9odh"
      },
      "source": [
        "There are 46310 tokens in the training dataset. After removing tokens that occur less than three times, there are 20663 tokens.\n",
        "Use V as the size of vocabulary. Then there are $V^{n}$ parameters in n-gram models. Most of the parameters are zero. The number of none-zero parameters is linear to the total length of the training dataset.\n"
      ]
    },
    {
      "cell_type": "markdown",
      "metadata": {
        "id": "lJ2BGUig8TqH"
      },
      "source": [
        "### 1.2 $n$-gram Language Modeling"
      ]
    },
    {
      "cell_type": "markdown",
      "metadata": {
        "id": "jeyANMPe9ad_"
      },
      "source": [
        "#### Code"
      ]
    },
    {
      "cell_type": "code",
      "execution_count": 14,
      "metadata": {
        "id": "ACSfNZGE8Yw2"
      },
      "outputs": [
        {
          "ename": "IndentationError",
          "evalue": "expected an indented block (2016616479.py, line 12)",
          "output_type": "error",
          "traceback": [
            "\u001b[1;36m  Input \u001b[1;32mIn [14]\u001b[1;36m\u001b[0m\n\u001b[1;33m    def bigram(train_texts):\u001b[0m\n\u001b[1;37m                            ^\u001b[0m\n\u001b[1;31mIndentationError\u001b[0m\u001b[1;31m:\u001b[0m expected an indented block\n"
          ]
        }
      ],
      "source": [
        "## unigram\n",
        "def unigram(train_texts):\n",
        "    model = {'c_up': {}, 'c_down': {}}\n",
        "    for text in train_texts:\n",
        "        for word in text:\n",
        "            if word not in model['c_up']:\n",
        "                model['c_up'][word] = 1\n",
        "            else:\n",
        "                model['c_up'][word] += 1\n",
        "    return model\n",
        "\n",
        "def bigram(train_texts):\n",
        "    model = {'c_up': {}, 'c_down': {}}\n",
        "    \n",
        "    return model"
      ]
    },
    {
      "cell_type": "markdown",
      "metadata": {
        "id": "SRWC56a19TbY"
      },
      "source": [
        "#### Discussion"
      ]
    },
    {
      "cell_type": "markdown",
      "metadata": {
        "id": "sM4gcgL--Ylh"
      },
      "source": []
    },
    {
      "cell_type": "markdown",
      "metadata": {
        "id": "cuLL8CH1Ua-3"
      },
      "source": [
        "### 1.3 Smoothing"
      ]
    },
    {
      "cell_type": "markdown",
      "metadata": {
        "id": "r7mWQhaCUixZ"
      },
      "source": [
        "#### 1.3.1 Add-one (Laplace) smoothing"
      ]
    },
    {
      "cell_type": "markdown",
      "metadata": {
        "id": "ZbbHxLDmVrz6"
      },
      "source": [
        "##### Code"
      ]
    },
    {
      "cell_type": "code",
      "execution_count": null,
      "metadata": {
        "id": "93_yLu9dVr0C"
      },
      "outputs": [],
      "source": []
    },
    {
      "cell_type": "markdown",
      "metadata": {
        "id": "8y1WOQtsVr0D"
      },
      "source": [
        "##### Discussion"
      ]
    },
    {
      "cell_type": "markdown",
      "metadata": {
        "id": "WTknh9pRVr0D"
      },
      "source": []
    },
    {
      "cell_type": "markdown",
      "metadata": {
        "id": "pTC0qJE8VVha"
      },
      "source": [
        "##### Optional: Add-k smoothing"
      ]
    },
    {
      "cell_type": "markdown",
      "metadata": {
        "id": "b3itGMOOVuNg"
      },
      "source": [
        "###### Code"
      ]
    },
    {
      "cell_type": "code",
      "execution_count": null,
      "metadata": {
        "id": "jhcuJWo7VuNg"
      },
      "outputs": [],
      "source": []
    },
    {
      "cell_type": "markdown",
      "metadata": {
        "id": "AzpU_p6CVuNg"
      },
      "source": [
        "###### Discussion"
      ]
    },
    {
      "cell_type": "markdown",
      "metadata": {
        "id": "YIOUpNXYVuNh"
      },
      "source": []
    },
    {
      "cell_type": "markdown",
      "metadata": {
        "id": "zJFWxsN-Uj0Y"
      },
      "source": [
        "#### 1.3.2 Linear Interpolation"
      ]
    },
    {
      "cell_type": "markdown",
      "metadata": {
        "id": "hk11EpboWVCH"
      },
      "source": [
        "##### Code"
      ]
    },
    {
      "cell_type": "code",
      "execution_count": null,
      "metadata": {
        "id": "K4N_XuN6WVCQ"
      },
      "outputs": [],
      "source": []
    },
    {
      "cell_type": "markdown",
      "metadata": {
        "id": "Kh8v2P36WVCQ"
      },
      "source": [
        "##### Discussion"
      ]
    },
    {
      "cell_type": "markdown",
      "metadata": {
        "id": "bGkf6IV0WVCQ"
      },
      "source": []
    },
    {
      "cell_type": "markdown",
      "metadata": {
        "id": "wvgTZcNFVato"
      },
      "source": [
        "##### Optional: Optimization"
      ]
    },
    {
      "cell_type": "markdown",
      "metadata": {
        "id": "zKnXu98hWcfu"
      },
      "source": [
        "###### Discussion"
      ]
    },
    {
      "cell_type": "markdown",
      "metadata": {
        "id": "fKo4ZLASWcfu"
      },
      "source": []
    },
    {
      "cell_type": "markdown",
      "metadata": {
        "id": "3E8xYXuCUoAR"
      },
      "source": [
        "## 2 Preposition Prediction"
      ]
    },
    {
      "cell_type": "code",
      "execution_count": null,
      "metadata": {
        "id": "gewisxM5W5kQ"
      },
      "outputs": [],
      "source": [
        "!wget -O dev.in https://raw.githubusercontent.com/ranpox/comp7607-fall2022/main/assignments/A1/data/prep/dev.in\n",
        "!wget -O dev.out https://raw.githubusercontent.com/ranpox/comp7607-fall2022/main/assignments/A1/data/prep/dev.out"
      ]
    },
    {
      "cell_type": "code",
      "execution_count": null,
      "metadata": {},
      "outputs": [],
      "source": []
    }
  ],
  "metadata": {
    "colab": {
      "provenance": [],
      "toc_visible": true
    },
    "kernelspec": {
      "display_name": "Python 3.9.13 ('ml')",
      "language": "python",
      "name": "python3"
    },
    "language_info": {
      "codemirror_mode": {
        "name": "ipython",
        "version": 3
      },
      "file_extension": ".py",
      "mimetype": "text/x-python",
      "name": "python",
      "nbconvert_exporter": "python",
      "pygments_lexer": "ipython3",
      "version": "3.9.13"
    },
    "vscode": {
      "interpreter": {
        "hash": "d559f30ae9ab779927f3cb792f1cac9b725f5061f38755c4ef102b55af6275f0"
      }
    }
  },
  "nbformat": 4,
  "nbformat_minor": 0
}
